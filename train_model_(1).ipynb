{
  "cells": [
    {
      "cell_type": "code",
      "execution_count": null,
      "metadata": {
        "id": "3b8c5e19"
      },
      "outputs": [],
      "source": [
        "import numpy as np\n",
        "import cv2\n",
        "from keras.models import Sequential\n",
        "from keras.layers import Dense, Dropout, Flatten\n",
        "from keras.layers import Conv2D\n",
        "from keras.optimizers import *\n",
        "from keras.layers import MaxPooling2D\n",
        "from keras.preprocessing.image import ImageDataGenerator\n",
        "from keras.models import model_from_json\n",
        "\n",
        "from keras.layers import Dense, Input, Dropout, GlobalAveragePooling2D, Flatten, Conv2D, BatchNormalization, Activation, MaxPooling2D\n",
        "from keras.models import Model, Sequential\n",
        "from tensorflow.keras.optimizers import Adam"
      ],
      "id": "3b8c5e19"
    },
    {
      "cell_type": "code",
      "execution_count": null,
      "metadata": {
        "colab": {
          "base_uri": "https://localhost:8080/"
        },
        "id": "JyL6abySwjPZ",
        "outputId": "aed8c203-cfb0-48ff-b78b-d8b0ba1ea588"
      },
      "outputs": [
        {
          "output_type": "stream",
          "name": "stdout",
          "text": [
            "Mounted at /content/drive\n"
          ]
        }
      ],
      "source": [
        "from google.colab import drive\n",
        "drive.mount('/content/drive')"
      ],
      "id": "JyL6abySwjPZ"
    },
    {
      "cell_type": "code",
      "execution_count": null,
      "metadata": {
        "colab": {
          "base_uri": "https://localhost:8080/"
        },
        "id": "pWBjwIUBO57K",
        "outputId": "c62d41b2-5282-4641-e3d0-4d2c68138b27"
      },
      "outputs": [
        {
          "output_type": "stream",
          "name": "stdout",
          "text": [
            "/content/drive/MyDrive/Emotion Detector\n"
          ]
        }
      ],
      "source": [
        "cd drive/MyDrive/Emotion Detector"
      ],
      "id": "pWBjwIUBO57K"
    },
    {
      "cell_type": "code",
      "execution_count": null,
      "metadata": {
        "id": "vOpHn5frOspC"
      },
      "outputs": [],
      "source": [
        "train_dir = 'train/'\n",
        "val_dir = 'test/'"
      ],
      "id": "vOpHn5frOspC"
    },
    {
      "cell_type": "code",
      "execution_count": null,
      "metadata": {
        "colab": {
          "base_uri": "https://localhost:8080/"
        },
        "id": "ac9f5a1c",
        "outputId": "7ecdf365-071b-44ff-bf49-7ab57c50008b"
      },
      "outputs": [
        {
          "output_type": "stream",
          "name": "stdout",
          "text": [
            "Found 28709 images belonging to 7 classes.\n",
            "Found 7178 images belonging to 7 classes.\n"
          ]
        }
      ],
      "source": [
        "train_datagen = ImageDataGenerator(rescale=1./255)\n",
        "val_datagen = ImageDataGenerator(rescale=1./255)\n",
        "\n",
        "train_generator = train_datagen.flow_from_directory(\n",
        "        train_dir,\n",
        "        target_size=(200,200),\n",
        "        batch_size=64,\n",
        "        color_mode=\"grayscale\",\n",
        "        class_mode='categorical')\n",
        "\n",
        "validation_generator = val_datagen.flow_from_directory(\n",
        "        val_dir,\n",
        "        target_size=(200,200),\n",
        "        batch_size=64,\n",
        "        color_mode=\"grayscale\",\n",
        "        class_mode='categorical')"
      ],
      "id": "ac9f5a1c"
    },
    {
      "cell_type": "code",
      "execution_count": null,
      "metadata": {
        "id": "6g8OclU8RVWC"
      },
      "outputs": [],
      "source": [
        "emotion_dict = {0: \"Angry\", 1: \"Disgusted\", 2: \"Fearful\", 3: \"Happy\", 4: \"Neutral\", 5: \"Sad\", 6: \"Surprised\"}"
      ],
      "id": "6g8OclU8RVWC"
    },
    {
      "cell_type": "code",
      "execution_count": null,
      "metadata": {
        "colab": {
          "base_uri": "https://localhost:8080/"
        },
        "id": "c40f8539",
        "outputId": "de8c26e1-7ee1-4d1e-e4bf-9fd143cdfa3b"
      },
      "outputs": [
        {
          "output_type": "stream",
          "name": "stdout",
          "text": [
            "Model: \"sequential\"\n",
            "_________________________________________________________________\n",
            " Layer (type)                Output Shape              Param #   \n",
            "=================================================================\n",
            " conv2d (Conv2D)             (None, 200, 200, 64)      640       \n",
            "                                                                 \n",
            " batch_normalization (BatchN  (None, 200, 200, 64)     256       \n",
            " ormalization)                                                   \n",
            "                                                                 \n",
            " activation (Activation)     (None, 200, 200, 64)      0         \n",
            "                                                                 \n",
            " max_pooling2d (MaxPooling2D  (None, 100, 100, 64)     0         \n",
            " )                                                               \n",
            "                                                                 \n",
            " dropout (Dropout)           (None, 100, 100, 64)      0         \n",
            "                                                                 \n",
            " conv2d_1 (Conv2D)           (None, 100, 100, 128)     204928    \n",
            "                                                                 \n",
            " batch_normalization_1 (Batc  (None, 100, 100, 128)    512       \n",
            " hNormalization)                                                 \n",
            "                                                                 \n",
            " activation_1 (Activation)   (None, 100, 100, 128)     0         \n",
            "                                                                 \n",
            " max_pooling2d_1 (MaxPooling  (None, 50, 50, 128)      0         \n",
            " 2D)                                                             \n",
            "                                                                 \n",
            " dropout_1 (Dropout)         (None, 50, 50, 128)       0         \n",
            "                                                                 \n",
            " conv2d_2 (Conv2D)           (None, 50, 50, 512)       590336    \n",
            "                                                                 \n",
            " batch_normalization_2 (Batc  (None, 50, 50, 512)      2048      \n",
            " hNormalization)                                                 \n",
            "                                                                 \n",
            " activation_2 (Activation)   (None, 50, 50, 512)       0         \n",
            "                                                                 \n",
            " max_pooling2d_2 (MaxPooling  (None, 25, 25, 512)      0         \n",
            " 2D)                                                             \n",
            "                                                                 \n",
            " dropout_2 (Dropout)         (None, 25, 25, 512)       0         \n",
            "                                                                 \n",
            " conv2d_3 (Conv2D)           (None, 25, 25, 512)       2359808   \n",
            "                                                                 \n",
            " batch_normalization_3 (Batc  (None, 25, 25, 512)      2048      \n",
            " hNormalization)                                                 \n",
            "                                                                 \n",
            " activation_3 (Activation)   (None, 25, 25, 512)       0         \n",
            "                                                                 \n",
            " max_pooling2d_3 (MaxPooling  (None, 12, 12, 512)      0         \n",
            " 2D)                                                             \n",
            "                                                                 \n",
            " dropout_3 (Dropout)         (None, 12, 12, 512)       0         \n",
            "                                                                 \n",
            " flatten (Flatten)           (None, 73728)             0         \n",
            "                                                                 \n",
            " dense (Dense)               (None, 256)               18874624  \n",
            "                                                                 \n",
            " batch_normalization_4 (Batc  (None, 256)              1024      \n",
            " hNormalization)                                                 \n",
            "                                                                 \n",
            " activation_4 (Activation)   (None, 256)               0         \n",
            "                                                                 \n",
            " dropout_4 (Dropout)         (None, 256)               0         \n",
            "                                                                 \n",
            " dense_1 (Dense)             (None, 512)               131584    \n",
            "                                                                 \n",
            " batch_normalization_5 (Batc  (None, 512)              2048      \n",
            " hNormalization)                                                 \n",
            "                                                                 \n",
            " activation_5 (Activation)   (None, 512)               0         \n",
            "                                                                 \n",
            " dropout_5 (Dropout)         (None, 512)               0         \n",
            "                                                                 \n",
            " dense_2 (Dense)             (None, 7)                 3591      \n",
            "                                                                 \n",
            "=================================================================\n",
            "Total params: 22,173,447\n",
            "Trainable params: 22,169,479\n",
            "Non-trainable params: 3,968\n",
            "_________________________________________________________________\n",
            "None\n"
          ]
        },
        {
          "output_type": "stream",
          "name": "stderr",
          "text": [
            "/usr/local/lib/python3.7/dist-packages/keras/optimizer_v2/adam.py:105: UserWarning: The `lr` argument is deprecated, use `learning_rate` instead.\n",
            "  super(Adam, self).__init__(name, **kwargs)\n"
          ]
        }
      ],
      "source": [
        "# number of possible label values\n",
        "nb_classes = 7\n",
        "\n",
        "# Initialising the CNN\n",
        "model = Sequential()\n",
        "\n",
        "# 1 - Convolution\n",
        "model.add(Conv2D(64,(3,3), padding='same', input_shape=(200, 200,1)))\n",
        "model.add(BatchNormalization())\n",
        "model.add(Activation('relu'))\n",
        "model.add(MaxPooling2D(pool_size=(2, 2)))\n",
        "model.add(Dropout(0.25))\n",
        "\n",
        "# 2nd Convolution layer\n",
        "model.add(Conv2D(128,(5,5), padding='same'))\n",
        "model.add(BatchNormalization())\n",
        "model.add(Activation('relu'))\n",
        "model.add(MaxPooling2D(pool_size=(2, 2)))\n",
        "model.add(Dropout(0.25))\n",
        "\n",
        "# 3rd Convolution layer\n",
        "model.add(Conv2D(512,(3,3), padding='same'))\n",
        "model.add(BatchNormalization())\n",
        "model.add(Activation('relu'))\n",
        "model.add(MaxPooling2D(pool_size=(2, 2)))\n",
        "model.add(Dropout(0.25))\n",
        "\n",
        "# 4th Convolution layer\n",
        "model.add(Conv2D(512,(3,3), padding='same'))\n",
        "model.add(BatchNormalization())\n",
        "model.add(Activation('relu'))\n",
        "model.add(MaxPooling2D(pool_size=(2, 2)))\n",
        "model.add(Dropout(0.25))\n",
        "\n",
        "# Flattening\n",
        "model.add(Flatten())\n",
        "\n",
        "# Fully connected layer 1st layer\n",
        "model.add(Dense(256))\n",
        "model.add(BatchNormalization())\n",
        "model.add(Activation('relu'))\n",
        "model.add(Dropout(0.25))\n",
        "\n",
        "# Fully connected layer 2nd layer\n",
        "model.add(Dense(512))\n",
        "model.add(BatchNormalization())\n",
        "model.add(Activation('relu'))\n",
        "model.add(Dropout(0.25))\n",
        "\n",
        "model.add(Dense(nb_classes, activation='softmax'))\n",
        "\n",
        "print(model.summary())\n",
        "\n",
        "opt = Adam(lr=0.0001)\n",
        "model.compile(optimizer=opt, loss='categorical_crossentropy', metrics=['accuracy'])"
      ],
      "id": "c40f8539"
    },
    {
      "cell_type": "code",
      "execution_count": null,
      "metadata": {
        "colab": {
          "base_uri": "https://localhost:8080/"
        },
        "id": "50dccc7a",
        "outputId": "44ac5b49-fd46-46b2-b64e-4c3b6654f875"
      },
      "outputs": [
        {
          "output_type": "stream",
          "name": "stderr",
          "text": [
            "/usr/local/lib/python3.7/dist-packages/keras/optimizer_v2/adam.py:105: UserWarning: The `lr` argument is deprecated, use `learning_rate` instead.\n",
            "  super(Adam, self).__init__(name, **kwargs)\n",
            "/usr/local/lib/python3.7/dist-packages/ipykernel_launcher.py:7: UserWarning: `Model.fit_generator` is deprecated and will be removed in a future version. Please use `Model.fit`, which supports generators.\n",
            "  import sys\n"
          ]
        },
        {
          "output_type": "stream",
          "name": "stdout",
          "text": [
            "Epoch 1/50\n",
            "448/448 [==============================] - 6986s 16s/step - loss: 1.8161 - accuracy: 0.3137 - val_loss: 2.0552 - val_accuracy: 0.3004\n",
            "Epoch 2/50\n",
            "448/448 [==============================] - 310s 693ms/step - loss: 1.5886 - accuracy: 0.3950 - val_loss: 1.5695 - val_accuracy: 0.4065\n",
            "Epoch 3/50\n",
            "448/448 [==============================] - 311s 693ms/step - loss: 1.4351 - accuracy: 0.4530 - val_loss: 1.3876 - val_accuracy: 0.4694\n",
            "Epoch 4/50\n",
            "448/448 [==============================] - 311s 693ms/step - loss: 1.3024 - accuracy: 0.5081 - val_loss: 1.3196 - val_accuracy: 0.4919\n",
            "Epoch 5/50\n",
            "448/448 [==============================] - 311s 693ms/step - loss: 1.2115 - accuracy: 0.5431 - val_loss: 1.2551 - val_accuracy: 0.5197\n",
            "Epoch 6/50\n",
            "448/448 [==============================] - 311s 693ms/step - loss: 1.1201 - accuracy: 0.5787 - val_loss: 1.2402 - val_accuracy: 0.5356\n",
            "Epoch 7/50\n",
            "448/448 [==============================] - 311s 694ms/step - loss: 1.0393 - accuracy: 0.6115 - val_loss: 1.1937 - val_accuracy: 0.5545\n",
            "Epoch 8/50\n",
            "448/448 [==============================] - 312s 695ms/step - loss: 0.9500 - accuracy: 0.6461 - val_loss: 1.2177 - val_accuracy: 0.5534\n",
            "Epoch 9/50\n",
            "448/448 [==============================] - 312s 696ms/step - loss: 0.8664 - accuracy: 0.6814 - val_loss: 1.2485 - val_accuracy: 0.5526\n",
            "Epoch 10/50\n",
            "448/448 [==============================] - 312s 697ms/step - loss: 0.7773 - accuracy: 0.7148 - val_loss: 1.2672 - val_accuracy: 0.5509\n",
            "Epoch 11/50\n",
            "448/448 [==============================] - 312s 697ms/step - loss: 0.6901 - accuracy: 0.7497 - val_loss: 1.3336 - val_accuracy: 0.5545\n",
            "Epoch 12/50\n",
            "448/448 [==============================] - 313s 697ms/step - loss: 0.6150 - accuracy: 0.7811 - val_loss: 1.3356 - val_accuracy: 0.5469\n",
            "Epoch 13/50\n",
            "448/448 [==============================] - 313s 698ms/step - loss: 0.5366 - accuracy: 0.8087 - val_loss: 1.3449 - val_accuracy: 0.5658\n",
            "Epoch 14/50\n",
            "448/448 [==============================] - 312s 697ms/step - loss: 0.4608 - accuracy: 0.8389 - val_loss: 1.3545 - val_accuracy: 0.5675\n",
            "Epoch 15/50\n",
            "448/448 [==============================] - 312s 697ms/step - loss: 0.4103 - accuracy: 0.8560 - val_loss: 1.4059 - val_accuracy: 0.5717\n",
            "Epoch 16/50\n",
            "448/448 [==============================] - 313s 697ms/step - loss: 0.3519 - accuracy: 0.8796 - val_loss: 1.3929 - val_accuracy: 0.5820\n",
            "Epoch 17/50\n",
            "448/448 [==============================] - 312s 696ms/step - loss: 0.3136 - accuracy: 0.8905 - val_loss: 1.5111 - val_accuracy: 0.5547\n",
            "Epoch 18/50\n",
            "448/448 [==============================] - 311s 694ms/step - loss: 0.2823 - accuracy: 0.9046 - val_loss: 1.4758 - val_accuracy: 0.5843\n",
            "Epoch 19/50\n",
            "448/448 [==============================] - 311s 694ms/step - loss: 0.2569 - accuracy: 0.9129 - val_loss: 1.5347 - val_accuracy: 0.5844\n",
            "Epoch 20/50\n",
            "448/448 [==============================] - 311s 694ms/step - loss: 0.2300 - accuracy: 0.9222 - val_loss: 1.5208 - val_accuracy: 0.5829\n",
            "Epoch 21/50\n",
            "448/448 [==============================] - 311s 694ms/step - loss: 0.2148 - accuracy: 0.9272 - val_loss: 1.6162 - val_accuracy: 0.5819\n",
            "Epoch 22/50\n",
            "448/448 [==============================] - 311s 693ms/step - loss: 0.1895 - accuracy: 0.9376 - val_loss: 1.6179 - val_accuracy: 0.5724\n",
            "Epoch 23/50\n",
            "448/448 [==============================] - 311s 693ms/step - loss: 0.1751 - accuracy: 0.9413 - val_loss: 1.6181 - val_accuracy: 0.5917\n",
            "Epoch 24/50\n",
            "448/448 [==============================] - 311s 694ms/step - loss: 0.1681 - accuracy: 0.9436 - val_loss: 1.7769 - val_accuracy: 0.5851\n",
            "Epoch 25/50\n",
            "448/448 [==============================] - 311s 693ms/step - loss: 0.1644 - accuracy: 0.9432 - val_loss: 1.7143 - val_accuracy: 0.5813\n",
            "Epoch 26/50\n",
            "326/448 [====================>.........] - ETA: 1:18 - loss: 0.1378 - accuracy: 0.9546"
          ]
        }
      ],
      "source": [
        "model.compile(loss='categorical_crossentropy',optimizer=Adam(lr=0.0001, decay=1e-6),metrics=['accuracy'])\n",
        "model_info = model.fit_generator(\n",
        "        train_generator,\n",
        "        steps_per_epoch=28709 // 64,\n",
        "        epochs=50,\n",
        "        validation_data=validation_generator,\n",
        "        validation_steps=7178 // 64)"
      ],
      "id": "50dccc7a"
    },
    {
      "cell_type": "code",
      "execution_count": null,
      "metadata": {
        "id": "TJJDcJGyOswc"
      },
      "outputs": [],
      "source": [
        "model_json = model.to_json()\n",
        "with open(\"model.json\", \"w\") as json_file:\n",
        "  json_file.write(model_json)"
      ],
      "id": "TJJDcJGyOswc"
    },
    {
      "cell_type": "code",
      "execution_count": null,
      "metadata": {
        "id": "b57ddd91"
      },
      "outputs": [],
      "source": [
        "model.save_weights('emotion_model.h5')"
      ],
      "id": "b57ddd91"
    },
    {
      "cell_type": "code",
      "execution_count": null,
      "metadata": {
        "id": "6LFj3yKBQHoy"
      },
      "outputs": [],
      "source": [
        "json_file = open('model.json', 'r')\n",
        "loaded_model_json = json_file.read()\n",
        "json_file.close()\n",
        "loaded_model = model_from_json(loaded_model_json)\n",
        "# load weights into new model\n",
        "loaded_model.load_weights(\"emotion_model.h5\")"
      ],
      "id": "6LFj3yKBQHoy"
    },
    {
      "cell_type": "code",
      "execution_count": null,
      "metadata": {
        "id": "84f124d2"
      },
      "outputs": [],
      "source": [
        "# start the webcam feed\n",
        "cap = cv2.VideoCapture(0)\n",
        "while True:\n",
        "    # Find haar cascade to draw bounding box around face\n",
        "    ret, frame = cap.read()\n",
        "    if not ret:\n",
        "        break\n",
        "    bounding_box = cv2.CascadeClassifier('drive/MyDrive/projects/emoji_creator/data/haarcascade_frontalface_default.xml')\n",
        "    gray_frame = cv2.cvtColor(frame, cv2.COLOR_BGR2gray_frame)\n",
        "    num_faces = bounding_box.detectMultiScale(gray_frame,scaleFactor=1.3, minNeighbors=5)\n",
        "\n",
        "    for (x, y, w, h) in num_faces:\n",
        "        cv2.rectangle(frame, (x, y-50), (x+w, y+h+10), (255, 0, 0), 2)\n",
        "        roi_gray_frame = gray_frame[y:y + h, x:x + w]\n",
        "        cropped_img = np.expand_dims(np.expand_dims(cv2.resize(roi_gray_frame, (48, 48)), -1), 0)\n",
        "        emotion_prediction = emotion_model.predict(cropped_img)\n",
        "        maxindex = int(np.argmax(emotion_prediction))\n",
        "        cv2.putText(frame, emotion_dict[maxindex], (x+20, y-60), cv2.FONT_HERSHEY_SIMPLEX, 1, (255, 255, 255), 2, cv2.LINE_AA)\n",
        "\n",
        "    cv2.imshow('Video', cv2.resize(frame,(1200,860),interpolation = cv2.INTER_CUBIC))\n",
        "    if cv2.waitKey(1) & 0xFF == ord('q'):\n",
        "        break\n",
        "\n",
        "cap.release()\n",
        "cv2.destroyAllWindows()"
      ],
      "id": "84f124d2"
    },
    {
      "cell_type": "code",
      "execution_count": null,
      "metadata": {
        "id": "q0m_XSR1QPGR"
      },
      "outputs": [],
      "source": [
        ""
      ],
      "id": "q0m_XSR1QPGR"
    }
  ],
  "metadata": {
    "accelerator": "GPU",
    "colab": {
      "collapsed_sections": [],
      "name": "train_model (1).ipynb",
      "provenance": []
    },
    "kernelspec": {
      "display_name": "Python 3",
      "language": "python",
      "name": "python3"
    },
    "language_info": {
      "codemirror_mode": {
        "name": "ipython",
        "version": 3
      },
      "file_extension": ".py",
      "mimetype": "text/x-python",
      "name": "python",
      "nbconvert_exporter": "python",
      "pygments_lexer": "ipython3",
      "version": "3.6.13"
    }
  },
  "nbformat": 4,
  "nbformat_minor": 5
}